{
 "cells": [
  {
   "cell_type": "markdown",
   "metadata": {},
   "source": [
    "# Worksheet 08\n",
    "\n",
    "Name:  Erwin Pimentel\n",
    "UID: U97810050\n",
    "\n",
    "### Topics\n",
    "\n",
    "- Soft Clustering\n",
    "- Clustering Aggregation\n",
    "\n",
    "### Probability Review\n",
    "\n",
    "Read through [the following](https://medium.com/@gallettilance/overview-of-probability-3272b72c82c8)\n",
    "\n",
    "### Soft Clustering\n",
    "\n",
    "We generate 10 data points that come from a normal distribution with mean 5 and variance 1."
   ]
  },
  {
   "cell_type": "code",
   "execution_count": 2,
   "metadata": {},
   "outputs": [
    {
     "name": "stdout",
     "output_type": "stream",
     "text": [
      "[3.4855948784135293, 5.450107731995901, 5.063307688710633, 4.166451656936867, 3.859396014970198, 4.359318965442422, 4.146960742675675, 4.846919499519045, 4.696592955067888, 5.952591679079797]\n"
     ]
    }
   ],
   "source": [
    "import random\n",
    "import numpy as np\n",
    "from sklearn.cluster import KMeans\n",
    "\n",
    "mean = 5\n",
    "stdev = 1\n",
    "\n",
    "s1 = np.random.normal(mean, stdev, 10).tolist()\n",
    "print(s1)"
   ]
  },
  {
   "cell_type": "markdown",
   "metadata": {},
   "source": [
    "a) Generate 10 more data points, this time coming from a normal distribution with mean 8 and variance 1."
   ]
  },
  {
   "cell_type": "code",
   "execution_count": 7,
   "metadata": {},
   "outputs": [
    {
     "name": "stdout",
     "output_type": "stream",
     "text": [
      "[7.999261474706113, 7.924494700228486, 7.789711857359639, 7.627636420439224, 9.117066156491397, 7.821495627416395, 8.333197541937661, 7.020049793300054, 7.1433144883291355, 7.721975757770691]\n"
     ]
    }
   ],
   "source": [
    "s2 = np.random.normal(8 , 1, 10).tolist()\n",
    "print(s2)"
   ]
  },
  {
   "cell_type": "markdown",
   "metadata": {},
   "source": [
    "b) Flip a fair coin 10 times. If the coin lands on H, then pick the last data point of `c1` and remove it from `c1`, if T then pick the last data point from `c2` and remove it from `c2`. Add these 10 points to a list called `data`."
   ]
  },
  {
   "cell_type": "code",
   "execution_count": 4,
   "metadata": {},
   "outputs": [
    {
     "name": "stdout",
     "output_type": "stream",
     "text": [
      "[5.952591679079797, 4.696592955067888, 4.846919499519045, 7.642733340034468, 4.146960742675675, 4.359318965442422, 3.859396014970198, 4.166451656936867, 5.063307688710633, 5.450107731995901]\n"
     ]
    }
   ],
   "source": [
    "data = []\n",
    "for i in range(10):\n",
    "    # flip coin\n",
    "    coin_output = random.choice([0, 1])\n",
    "    if coin_output == 0:\n",
    "        p1 = s1.pop()\n",
    "        data.append(p1)\n",
    "    else:\n",
    "        p2 = s2.pop()\n",
    "        data.append(p2)\n",
    "print(data)"
   ]
  },
  {
   "cell_type": "markdown",
   "metadata": {},
   "source": [
    "c) This `data` is a Gaussian Mixture Distribution with 2 mixture components. Over the next few questions we will walk through the GMM algorithm to see if we can uncover the parameters we used to generate this data. First, please list all these parameters of the GMM that created `data` and the values we know they have."
   ]
  },
  {
   "cell_type": "markdown",
   "metadata": {},
   "source": [
    "s1 = [3.4855948784135293, 5.450107731995901, 5.063307688710633, 4.166451656936867, 3.859396014970198, 4.359318965442422, 4.146960742675675, 4.846919499519045, 4.696592955067888, 5.952591679079797]\n",
    "s1_mean = 5\n",
    "s1_var = 1\n",
    "s2 = [7.9012152639409825, 8.860695416461592, 6.7925650215683175, 6.562114303409873, 8.512729988109461, 8.55256138021691, 7.713169666521784, 8.0595127752344, 7.565737569969725, 7.642733340034468]\n",
    "s2_mean = 8\n",
    "s2_var = 1\n",
    "coin_output = [0, 1]\n",
    "probability of choosing from s1 or s2 = 1/2 (50%)"
   ]
  },
  {
   "cell_type": "markdown",
   "metadata": {},
   "source": [
    "d) Let's assume there are two mixture components (note: we could plot the data and make the observation that there are two clusters). The EM algorithm asks us to start with a random `mean_j`, `variance_j`, `P(S_j)` for each component j. One method we could use to find sensible values for these is to apply K means with k=2 here.\n",
    "\n",
    "1. the centroids would be the estimates of the `mean_j`\n",
    "2. the intra-cluster variance could be the estimate of `variance_j`\n",
    "3. the proportion of points in each cluster could be the estimate of `P(S_j)`\n",
    "\n",
    "Go through this process and list the parameter estimates it gives. Are they close or far from the true values?"
   ]
  },
  {
   "cell_type": "code",
   "execution_count": 9,
   "metadata": {},
   "outputs": [
    {
     "name": "stderr",
     "output_type": "stream",
     "text": [
      "C:\\ProgramData\\anaconda3\\Lib\\site-packages\\sklearn\\cluster\\_kmeans.py:1412: FutureWarning: The default value of `n_init` will change from 10 to 'auto' in 1.4. Set the value of `n_init` explicitly to suppress the warning\n",
      "  super()._check_params_vs_input(X, default_n_init=10)\n",
      "C:\\ProgramData\\anaconda3\\Lib\\site-packages\\sklearn\\cluster\\_kmeans.py:1436: UserWarning: KMeans is known to have a memory leak on Windows with MKL, when there are less chunks than available threads. You can avoid it by setting the environment variable OMP_NUM_THREADS=1.\n",
      "  warnings.warn(\n"
     ]
    },
    {
     "name": "stdout",
     "output_type": "stream",
     "text": [
      "[4.696592955067888, 4.846919499519045, 4.146960742675675, 4.359318965442422, 3.859396014970198, 4.166451656936867, 5.063307688710633, 5.450107731995901]\n",
      "[5.952591679079797, 7.642733340034468]\n",
      "P(S_1) = 0.8,  P(S_2) = 0.2\n",
      "mean_1 = 4.573631906914829,  mean_2 = 6.797662509557132\n",
      "var_1 = 0.25021309443162437,  var_2 = 0.7141447085236536\n"
     ]
    }
   ],
   "source": [
    "kmeans = KMeans(2, init='k-means++').fit(X=np.array(data).reshape(-1, 1))\n",
    "\n",
    "s1 = [x[0] for x in filter(lambda x: x[1] == 0, zip(data, kmeans.labels_))]\n",
    "print(s1)\n",
    "s2 = [x[0] for x in filter(lambda x: x[1] == 1, zip(data, kmeans.labels_))]\n",
    "print(s2)\n",
    "\n",
    "prob_s = [ len(s1) / (len(s1) + len(s2)) , len(s2) / (len(s1) + len(s2)) ]\n",
    "mean = [ sum(s1)/len(s1) , sum(s2)/len(s2) ]\n",
    "var = [ sum(map(lambda x : (x - mean[0])**2, s1)) / len(s1) , sum(map(lambda x : (x - mean[1])**2, s2)) / len(s2) ]\n",
    "\n",
    "print(\"P(S_1) = \" + str(prob_s[0]) + \",  P(S_2) = \" + str(prob_s[1]))\n",
    "print(\"mean_1 = \" + str(mean[0]) + \",  mean_2 = \" + str(mean[1]))\n",
    "print(\"var_1 = \" + str(var[0]) + \",  var_2 = \" + str(var[1]))"
   ]
  },
  {
   "cell_type": "markdown",
   "metadata": {},
   "source": []
  },
  {
   "cell_type": "markdown",
   "metadata": {},
   "source": [
    "e) For each data point, compute `P(S_j | X_i)`. Comment on which cluster you think each point belongs to based on the estimated probabilities. How does that compare to the truth?"
   ]
  },
  {
   "cell_type": "code",
   "execution_count": 10,
   "metadata": {},
   "outputs": [
    {
     "name": "stdout",
     "output_type": "stream",
     "text": [
      "point =  5.952591679079797\n",
      "probability of observing that point if it came from cluster 0 =  4.04814628294486e-07\n",
      "probability of observing that point if it came from cluster 1 =  0.2773688467172279\n",
      "point =  4.696592955067888\n",
      "probability of observing that point if it came from cluster 0 =  1.413055518724508\n",
      "probability of observing that point if it came from cluster 1 =  0.007371155231859723\n",
      "point =  4.846919499519045\n",
      "probability of observing that point if it came from cluster 0 =  0.8781237224288544\n",
      "probability of observing that point if it came from cluster 1 =  0.013392880562648287\n",
      "point =  7.642733340034468\n",
      "probability of observing that point if it came from cluster 0 =  3.404305423867811e-33\n",
      "probability of observing that point if it came from cluster 1 =  0.2773688467172279\n",
      "point =  4.146960742675675\n",
      "probability of observing that point if it came from cluster 0 =  0.37254299154777837\n",
      "probability of observing that point if it came from cluster 1 =  0.0005695387599861814\n",
      "point =  4.359318965442422\n",
      "probability of observing that point if it came from cluster 0 =  1.1048273893810894\n",
      "probability of observing that point if it came from cluster 1 =  0.0016430864175113026\n",
      "point =  3.859396014970198\n",
      "probability of observing that point if it came from cluster 0 =  0.027116547413627474\n",
      "probability of observing that point if it came from cluster 1 =  0.00011782005098375676\n",
      "point =  4.166451656936867\n",
      "probability of observing that point if it came from cluster 0 =  0.4241771974707149\n",
      "probability of observing that point if it came from cluster 1 =  0.0006300234274069989\n",
      "point =  5.063307688710633\n",
      "probability of observing that point if it came from cluster 0 =  0.23492495156240895\n",
      "probability of observing that point if it came from cluster 1 =  0.029268015655009715\n",
      "point =  5.450107731995901\n",
      "probability of observing that point if it came from cluster 0 =  0.0034523101518655094\n",
      "probability of observing that point if it came from cluster 1 =  0.09417905320273236\n",
      "5.952591679079797\n",
      "Probability of coming from S_1 = 5.837890878113767e-06\n",
      "Probability of coming from S_2 = 0.9999941621091218\n",
      "\n",
      "4.696592955067888\n",
      "Probability of coming from S_1 = 0.9986975821526151\n",
      "Probability of coming from S_2 = 0.001302417847384864\n",
      "\n",
      "4.846919499519045\n",
      "Probability of coming from S_1 = 0.9962015578954199\n",
      "Probability of coming from S_2 = 0.0037984421045801097\n",
      "\n",
      "7.642733340034468\n",
      "Probability of coming from S_1 = 4.9094272325953514e-32\n",
      "Probability of coming from S_2 = 1.0\n",
      "\n",
      "4.146960742675675\n",
      "Probability of coming from S_1 = 0.9996179493506456\n",
      "Probability of coming from S_2 = 0.0003820506493544391\n",
      "\n",
      "4.359318965442422\n",
      "Probability of coming from S_1 = 0.9996283410952698\n",
      "Probability of coming from S_2 = 0.0003716589047301515\n",
      "\n",
      "3.859396014970198\n",
      "Probability of coming from S_1 = 0.998914941055287\n",
      "Probability of coming from S_2 = 0.0010850589447130706\n",
      "\n",
      "4.166451656936867\n",
      "Probability of coming from S_1 = 0.9996288169324437\n",
      "Probability of coming from S_2 = 0.0003711830675563731\n",
      "\n",
      "5.063307688710633\n",
      "Probability of coming from S_1 = 0.9697946464336873\n",
      "Probability of coming from S_2 = 0.03020535356631268\n",
      "\n",
      "5.450107731995901\n",
      "Probability of coming from S_1 = 0.12787719965030514\n",
      "Probability of coming from S_2 = 0.8721228003496949\n",
      "\n"
     ]
    }
   ],
   "source": [
    "from scipy.stats import norm\n",
    "\n",
    "prob_s0_x = [] # P(S_0 | X_i)\n",
    "prob_s1_x = [] # P(S_1 | X_i)\n",
    "prob_x = [] # P(X_i)\n",
    "\n",
    "k = 2\n",
    "\n",
    "for p in data:\n",
    "    print(\"point = \", p)\n",
    "    pdf_i = []\n",
    "\n",
    "    for j in range(k):\n",
    "        # P(X_i | S_j)\n",
    "        pdf_i.append(norm.pdf(p, mean[j], var[j]))\n",
    "        print(\"probability of observing that point if it came from cluster \" + str(j) + \" = \", pdf_i[j])\n",
    "        # P(S_j) already computed\n",
    "        prob_s[j]\n",
    "\n",
    "    # P(X_i) = P(S_0)P(X_i | S_0) + P(S_1)P(X_i | S_1)\n",
    "    prob_x = prob_s[0] * pdf_i[0] + prob_s[1] * pdf_i[1]\n",
    "\n",
    "    # P(S_j | X_i) = P(X_i | S_j)P(S_j) / P(X_i)\n",
    "    prob_s0_x.append( pdf_i[0] * prob_s[0] / prob_x )\n",
    "    prob_s1_x.append( pdf_i[1] * prob_s[1] / prob_x )\n",
    "\n",
    "probs = zip(data, prob_s0_x, prob_s1_x)\n",
    "for p in probs:\n",
    "    print(p[0])\n",
    "    print(\"Probability of coming from S_1 = \" + str(p[1]))\n",
    "    print(\"Probability of coming from S_2 = \" + str(p[2]))\n",
    "    print()\n"
   ]
  },
  {
   "cell_type": "markdown",
   "metadata": {},
   "source": [
    "f) Having computed `P(S_j | X_i)`, update the estimates of `mean_j`, `var_j`, and `P(S_j)`. How different are these values from the original ones you got from K means? briefly comment."
   ]
  },
  {
   "cell_type": "code",
   "execution_count": 12,
   "metadata": {},
   "outputs": [
    {
     "name": "stdout",
     "output_type": "stream",
     "text": [
      "P(S_1) = 0.8,  P(S_2) = 0.2\n",
      "mean_1 = 4.463735371104114,  mean_2 = 6.3701704164306\n",
      "var_1 = 14.289254216219827,  var_2 = 37.148251019039236\n"
     ]
    }
   ],
   "source": [
    "prob_c = [sum(prob_s0_x)/ len(prob_s0_x), sum(prob_s1_x)/ len(prob_s1_x)]\n",
    "mean = [sum([x[0] * x[1] for x in zip(prob_s0_x, data)]) / sum(prob_s0_x), sum([x[0] * x[1] for x in zip(prob_s1_x, data)]) / sum(prob_s1_x)]\n",
    "var = [ sum(map(lambda x : (x - mean[0])**2, prob_s0_x)) / len(prob_s0_x) , sum(map(lambda x : (x - mean[1])**2, prob_s1_x)) / len(prob_s1_x) ]\n",
    "\n",
    "print(\"P(S_1) = \" + str(prob_s[0]) + \",  P(S_2) = \" + str(prob_s[1]))\n",
    "print(\"mean_1 = \" + str(mean[0]) + \",  mean_2 = \" + str(mean[1]))\n",
    "print(\"var_1 = \" + str(var[0]) + \",  var_2 = \" + str(var[1]))"
   ]
  },
  {
   "cell_type": "markdown",
   "metadata": {},
   "source": [
    "These values are a bit different from the original ones i got from K means. For starters the variance of this dataset is much higher than the original values, however the mean has seemingly stayed around the same value, slightly lower even than the original values obtained from K means."
   ]
  },
  {
   "cell_type": "markdown",
   "metadata": {},
   "source": [
    "g) Update `P(S_j | X_i)`. Comment on any differences or lack thereof you observe."
   ]
  },
  {
   "cell_type": "code",
   "execution_count": 14,
   "metadata": {},
   "outputs": [
    {
     "name": "stdout",
     "output_type": "stream",
     "text": [
      "Data Point: 5.952591679079797\n",
      "Updated Probability of coming from S_1 = 0.8630378507503271\n",
      "Updated Probability of coming from S_2 = 0.1369621492496729\n",
      "\n",
      "Data Point: 4.696592955067888\n",
      "Updated Probability of coming from S_1 = 0.8637746019005288\n",
      "Updated Probability of coming from S_2 = 0.13622539809947123\n",
      "\n",
      "Data Point: 4.846919499519045\n",
      "Updated Probability of coming from S_1 = 0.8637274224191355\n",
      "Updated Probability of coming from S_2 = 0.13627257758086445\n",
      "\n",
      "Data Point: 7.642733340034468\n",
      "Updated Probability of coming from S_1 = 0.8608009319694558\n",
      "Updated Probability of coming from S_2 = 0.13919906803054424\n",
      "\n",
      "Data Point: 4.146960742675675\n",
      "Updated Probability of coming from S_1 = 0.8638526054603104\n",
      "Updated Probability of coming from S_2 = 0.13614739453968966\n",
      "\n",
      "Data Point: 4.359318965442422\n",
      "Updated Probability of coming from S_1 = 0.8638400501368995\n",
      "Updated Probability of coming from S_2 = 0.1361599498631005\n",
      "\n",
      "Data Point: 3.859396014970198\n",
      "Updated Probability of coming from S_1 = 0.8638343279613278\n",
      "Updated Probability of coming from S_2 = 0.13616567203867222\n",
      "\n",
      "Data Point: 4.166451656936867\n",
      "Updated Probability of coming from S_1 = 0.8638523756046896\n",
      "Updated Probability of coming from S_2 = 0.13614762439531033\n",
      "\n",
      "Data Point: 5.063307688710633\n",
      "Updated Probability of coming from S_1 = 0.8636399885981518\n",
      "Updated Probability of coming from S_2 = 0.13636001140184817\n",
      "\n",
      "Data Point: 5.450107731995901\n",
      "Updated Probability of coming from S_1 = 0.8634261864763544\n",
      "Updated Probability of coming from S_2 = 0.13657381352364556\n",
      "\n",
      "Mean of Updated Probability of S_1 = 0.8633786341277181\n",
      "Variance of Updated Probability of S_1 = 7.979334276068148e-07\n",
      "Mean of Updated Probability of S_2 = 0.13662136587228194\n",
      "Variance of Updated Probability of S_2 = 7.979334276068662e-07\n"
     ]
    }
   ],
   "source": [
    "# Initialize lists to store updated conditional probabilities\n",
    "updated_prob_s0_x = []\n",
    "updated_prob_s1_x = []\n",
    "\n",
    "for i in range(len(data)):\n",
    "    # Calculate the updated conditional probabilities using the new means and variances\n",
    "    p_s0 = norm.pdf(data[i], mean[0], var[0]) * prob_c[0]\n",
    "    p_s1 = norm.pdf(data[i], mean[1], var[1]) * prob_c[1]\n",
    "    \n",
    "    # Normalize the probabilities to ensure they sum to 1\n",
    "    total_prob = p_s0 + p_s1\n",
    "    p_s0 /= total_prob\n",
    "    p_s1 /= total_prob\n",
    "    \n",
    "    # Append the updated probabilities to the lists\n",
    "    updated_prob_s0_x.append(p_s0)\n",
    "    updated_prob_s1_x.append(p_s1)\n",
    "\n",
    "# Print the updated conditional probabilities for a few data points\n",
    "for i in range(10):  # Print the updated probabilities\n",
    "    print(\"Data Point:\", data[i])\n",
    "    print(\"Updated Probability of coming from S_1 =\", updated_prob_s0_x[i])\n",
    "    print(\"Updated Probability of coming from S_2 =\", updated_prob_s1_x[i])\n",
    "    print()\n",
    "\n",
    "# Calculate and print the mean and variance of the updated probabilities\n",
    "mean_updated_prob_s0_x = sum(updated_prob_s0_x) / len(updated_prob_s0_x)\n",
    "mean_updated_prob_s1_x = sum(updated_prob_s1_x) / len(updated_prob_s1_x)\n",
    "var_updated_prob_s0_x = sum((p - mean_updated_prob_s0_x) ** 2 for p in updated_prob_s0_x) / len(updated_prob_s0_x)\n",
    "var_updated_prob_s1_x = sum((p - mean_updated_prob_s1_x) ** 2 for p in updated_prob_s1_x) / len(updated_prob_s1_x)\n",
    "\n",
    "print(\"Mean of Updated Probability of S_1 =\", mean_updated_prob_s0_x)\n",
    "print(\"Variance of Updated Probability of S_1 =\", var_updated_prob_s0_x)\n",
    "print(\"Mean of Updated Probability of S_2 =\", mean_updated_prob_s1_x)\n",
    "print(\"Variance of Updated Probability of S_2 =\", var_updated_prob_s1_x)\n"
   ]
  },
  {
   "cell_type": "markdown",
   "metadata": {},
   "source": []
  },
  {
   "cell_type": "markdown",
   "metadata": {},
   "source": [
    "h) Use `P(S_j | X_i)` to create a hard assignment - label each point as belonging to a specific cluster (0 or 1)"
   ]
  },
  {
   "cell_type": "code",
   "execution_count": 15,
   "metadata": {},
   "outputs": [
    {
     "name": "stdout",
     "output_type": "stream",
     "text": [
      "Data Point: 5.952591679079797 Cluster Assignment: 0\n",
      "Data Point: 4.696592955067888 Cluster Assignment: 0\n",
      "Data Point: 4.846919499519045 Cluster Assignment: 0\n",
      "Data Point: 7.642733340034468 Cluster Assignment: 0\n",
      "Data Point: 4.146960742675675 Cluster Assignment: 0\n",
      "Data Point: 4.359318965442422 Cluster Assignment: 0\n",
      "Data Point: 3.859396014970198 Cluster Assignment: 0\n",
      "Data Point: 4.166451656936867 Cluster Assignment: 0\n",
      "Data Point: 5.063307688710633 Cluster Assignment: 0\n",
      "Data Point: 5.450107731995901 Cluster Assignment: 0\n"
     ]
    }
   ],
   "source": [
    "hard_assignment = []  # List to store hard cluster assignments (0 or 1)\n",
    "\n",
    "for i in range(len(data)):\n",
    "    # Compare the conditional probabilities and assign the point to the cluster with the higher probability\n",
    "    if updated_prob_s0_x[i] > updated_prob_s1_x[i]:\n",
    "        hard_assignment.append(0)\n",
    "    else:\n",
    "        hard_assignment.append(1)\n",
    "\n",
    "# Print the hard cluster assignments for each data point\n",
    "for i in range(len(data)):\n",
    "    print(\"Data Point:\", data[i], \"Cluster Assignment:\", hard_assignment[i])\n"
   ]
  }
 ],
 "metadata": {
  "kernelspec": {
   "display_name": "Python 3 (ipykernel)",
   "language": "python",
   "name": "python3"
  },
  "language_info": {
   "codemirror_mode": {
    "name": "ipython",
    "version": 3
   },
   "file_extension": ".py",
   "mimetype": "text/x-python",
   "name": "python",
   "nbconvert_exporter": "python",
   "pygments_lexer": "ipython3",
   "version": "3.11.4"
  },
  "vscode": {
   "interpreter": {
    "hash": "e7370f93d1d0cde622a1f8e1c04877d8463912d04d973331ad4851f04de6915a"
   }
  }
 },
 "nbformat": 4,
 "nbformat_minor": 2
}
